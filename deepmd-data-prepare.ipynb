{
 "cells": [
  {
   "cell_type": "code",
   "execution_count": 2,
   "id": "b9dcaeab-ba4c-47d3-9718-a95614d4ab9a",
   "metadata": {},
   "outputs": [],
   "source": [
    "import dpdata\n",
    "dpdata.LabeledSystem('OUTCAR').to('deepmd/npy', 'data', set_size=200)\n"
   ]
  },
  {
   "cell_type": "code",
   "execution_count": null,
   "id": "e15458a1-251f-4ace-92b1-8f093a28dfcd",
   "metadata": {},
   "outputs": [],
   "source": []
  }
 ],
 "metadata": {
  "kernelspec": {
   "display_name": "deepmd",
   "language": "python",
   "name": "deepmd"
  },
  "language_info": {
   "codemirror_mode": {
    "name": "ipython",
    "version": 3
   },
   "file_extension": ".py",
   "mimetype": "text/x-python",
   "name": "python",
   "nbconvert_exporter": "python",
   "pygments_lexer": "ipython3",
   "version": "3.10.13"
  }
 },
 "nbformat": 4,
 "nbformat_minor": 5
}
