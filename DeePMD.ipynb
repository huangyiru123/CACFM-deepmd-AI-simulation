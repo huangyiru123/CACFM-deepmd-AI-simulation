{
 "cells": [
  {
   "cell_type": "markdown",
   "id": "b22f597d-ec17-4ab9-8933-28e92af2438d",
   "metadata": {},
   "source": [
    "# DeePMD-kit Quick Start Tutorial"
   ]
  },
  {
   "cell_type": "markdown",
   "id": "7a41db5f",
   "metadata": {},
   "source": [
    "<a href=\"https://nb.bohrium.dp.tech/detail/3313403083\" target=\"_blank\"><img src=\"https://cdn.dp.tech/bohrium/web/static/images/open-in-bohrium.svg\" alt=\"Open In Bohrium\"/></a>"
   ]
  },
  {
   "cell_type": "markdown",
   "id": "85b62e3d-dfae-402f-96a5-5672367d2d17",
   "metadata": {},
   "source": [
    "<div style=\"color:black; background-color:#FFF3E9; border: 1px solid #FFE0C3; border-radius: 10px; margin-bottom:1rem\">\n",
    "    <p style=\"margin:1rem; padding-left: 1rem; line-height: 2.5;\">\n",
    "        ©️ <b><i>Copyright 2024 @ Authors</i></b><br/>\n",
    "        📖 <b>Getting Started Guide</b><br/>\n",
    "        Licensing Agreement: This work is licensed under the <a rel=\"license\" href=\"http://creativecommons.org/licenses/by-nc-sa/4.0/\">Creative Commons Attribution-NonCommercial-ShareAlike 4.0 International License</a>.<br/>\n",
    "       This document can be executed directly on the <a style=\"font-weight:bold; color:rgb(85, 91, 228)\" href=\"https://bohrium-doc.dp.tech/docs/userguide/Notebook\" target=\"_blank\"> Bohrium Notebook</a>. To begin, click the  <span style=\"background-color:rgb(85, 91, 228); color:white; padding: 3px; border-radius: 5px;box-shadow: 2px 2px 3px rgba(0, 0, 0, 0.3); font-size:0.75rem;\">Connect</span>  button located at the top of the interface. We have already set up the recommended image <b><u>DeePMD-kit:2.2.1-cuda11.6-notebook</u></b> and the recommended machine type <b><u>c32_m64_cpu</u></b> for you.\n",
    "    </p>\n",
    "</div>"
   ]
  },
  {
   "cell_type": "markdown",
   "id": "faec88c3-dac2-49e0-925f-41ca51878182",
   "metadata": {},
   "source": [
    "![alt](https://bohrium.oss-cn-zhangjiakou.aliyuncs.com/article/150/984dd8b9011c48dd85ae0dbe0dd52b16/950eebf7-2322-46fe-8def-e6ae69ed8ce5.png)"
   ]
  },
  {
   "cell_type": "markdown",
   "id": "dbab8963",
   "metadata": {},
   "source": [
    "<p style=\"color:purple; font-weight:bold\">This is a quick start guide for \"Deep Potential\" molecular dynamics using DeePMD-kit, through which you can quickly understand the paradigm cycle that DeePMD-kit operates in and apply it to your projects.</p>\n",
    "\n",
    "<p>Deep Potential is the convergence of machine learning and physical principles, presenting a new computational paradigm as shown in the figure below.</p>\n",
    "<div style=\"text-align: center;\">\n",
    "    <img src=\"https://bohrium-example.oss-cn-zhangjiakou.aliyuncs.com/notebook/static/mdkit/DPMD1.svg\" alt=\"Fig2\" style=\"zoom: 75%;\">\n",
    "    <p style='font-size:0.8rem; font-weight:bold'>Figure | A new computational paradigm, composed of Molecular Modeling, Machine Learning, and High-Performance Computing (HPC).</p>\n",
    "</div>\n"
   ]
  },
  {
   "cell_type": "markdown",
   "id": "f4416190-479c-4b2f-9e08-33690bc4941d",
   "metadata": {},
   "source": [
    "## Task\n",
    "\n",
    "> **Mastering the paradigm cycle of using DeePMD-kit to establish deep potential molecular dynamics models, and following a complete case to learn how to apply it to molecular dynamics tasks.**\n",
    "\n",
    "By the end of this tutorial, you will be able to:\n",
    "\n",
    "* Prepare the formataive dataset and running scripts for training with DeePMD-kit;\n",
    "* Train, freeze, and test DeePMD-kit models;\n",
    "* Use DeePMD-kit in Lammps for calculations;\n",
    "\n",
    "Work through this tutorial. It will take you 20 minutes, max!"
   ]
  },
  {
   "cell_type": "markdown",
   "id": "8e6587cb-ba6e-42ba-a139-0595fc7f79d7",
   "metadata": {},
   "source": [
    "## Table of contents\n",
    "\n",
    "<div align=\"left\" style=\"margin:rem;\"><img src=\"https://docs.deepmodeling.com/projects/deepmd/en/master/_static/logo.svg\" alt=\"deepmd-kit\" style=\"width:20rem;\"></div>\n",
    "\n",
    "* [Background](#background)\n",
    "* [Practice](#practice)\n",
    "    * [1. Data preparation](#dataprepare)\n",
    "    * [2. Prepare input script](#inputscript)\n",
    "    * [3. Train a model](#train)\n",
    "    * [4. Freeze a model](#freeze)\n",
    "    * [5. Compress a model](#compress)\n",
    "    * [6. Test a model](#test)\n",
    "    * [7. Run MD with LAMMPS](#lammpsmd)\n",
    "* [References](#references)\n"
   ]
  },
  {
   "cell_type": "markdown",
   "id": "42afcb0e",
   "metadata": {},
   "source": [
    "## Background <a id ='background'></a>\n",
    "\n",
    "In this tutorial, we will take the gaseous methane molecule as an example to provide a detailed introduction to the training and application of the Deep Potential (DP) model.\n",
    "\n",
    "DeePMD-kit is a software tool that employs neural networks to fit potential energy models based on first-principles data for molecular dynamics simulations. Without manual intervention, it can end-to-end transform the data provided by users into a deep potential model in a matter of hours. This model can seamlessly integrate with common molecular dynamics simulation software (like LAMMPS, OpenMM, and GROMACS).\n",
    "\n",
    "DeePMD-kit significantly elevates the limits of molecular dynamics through high-performance computing and machine learning, achieving system scales of up to hundreds of millions of atoms while still maintaining the high accuracy of \"ab initio\" calculations. The simulation time scale is improved by at least 1000 times compared to traditional methods. Its achievements earned the 2020 ACM Gordon Bell Prize, one of the highest honors in the field of high-performance computing, and it has been used by over a thousand research groups in physics, chemistry, materials science, biology, and other fields globally.\n",
    "\n",
    "<img src=\"https://bohrium-example.oss-cn-zhangjiakou.aliyuncs.com/notebook/static/mdkit/DPMD_Time_and_Size_Scales.svg\" alt=\"Fig1\" style=\"zoom: 75%;\">\n",
    "\n",
    "For more detailed usage, you can refer to the [DeePMD-kit’s documentation](https://docs.deepmodeling.org/projects/deepmd/en/master/index.html) as a comprehensive reference.\n",
    "\n",
    "In this case, the Deep Potential (DP) model was generated using the **DeePMD-kit package (v2.2.1)**.\n",
    "\n"
   ]
  },
  {
   "cell_type": "markdown",
   "id": "275d9d23",
   "metadata": {},
   "source": [
    "## Practice <a id ='practice'></a>"
   ]
  },
  {
   "cell_type": "markdown",
   "id": "e452966d",
   "metadata": {},
   "source": [
    "### 1 Data Preparation <a id ='dataprepare'></a>\n",
    "\n",
    "We have prepared the initial data for $CH_4$ required to run DeePMD-kit computations and placed it in the `DeePMD-kit_Tutorial` folder. You can view the corresponding files by clicking on the dataset on the left side:"
   ]
  },
  {
   "cell_type": "code",
   "execution_count": 4,
   "id": "34ea0475",
   "metadata": {},
   "outputs": [
    {
     "data": {
      "name": "stdout",
      "text": "Current path is: /personal/bohr/DeePMD-kit-Tutorial-21f1/v1\n"
     },
     "id": "13c3081d-e2268092b555b42a82e83f2c_65_27",
     "meta": {},
     "name": "stdout",
     "output_type": "stream",
     "parent_header": {
      "date": "2024-03-14T13:43:21.614896Z",
      "msg_id": "13c3081d-e2268092b555b42a82e83f2c_65_27",
      "msg_type": "stream",
      "session": "13c3081d-e2268092b555b42a82e83f2c",
      "username": "username",
      "version": "5.3"
     },
     "text": [
      "Current path is: /personal/bohr/DeePMD-kit-Tutorial-21f1/v1\n"
     ]
    },
    {
     "data": {
      "execution_count": 4,
      "payload": [],
      "status": "ok",
      "user_expressions": {}
     },
     "id": "13c3081d-e2268092b555b42a82e83f2c_65_28",
     "meta": {
      "dependencies_met": true,
      "engine": "a639d4cf-c4b9-4622-aea2-59e612c3c51e",
      "started": "2024-03-14T13:43:21.164718Z",
      "status": "ok"
     },
     "output_type": "execute_reply",
     "parent_header": {
      "date": "2024-03-14T13:43:21.616356Z",
      "msg_id": "13c3081d-e2268092b555b42a82e83f2c_65_28",
      "msg_type": "execute_reply",
      "session": "13c3081d-e2268092b555b42a82e83f2c",
      "username": "username",
      "version": "5.3"
     }
    }
   ],
   "source": [
    "# For security reasons, we do not have write permission to the dataset folder, so we copy it to the `/data/` directory:\n",
    "! cp -nr /bohr/ /personal/\n",
    "\n",
    "# Here, we define some paths and switch to the working path for ease of subsequent calls:\n",
    "import os\n",
    "bohr_dataset_url = \"/bohr/DeePMD-kit-Tutorial-21f1/v1/\"  # The URL can be copied from the dataset section on the left.\n",
    "work_path = os.path.join(\"/personal\", bohr_dataset_url[1:])  # A slice operation is used to remove the leading \"/\" from the path.\n",
    "os.chdir(work_path)\n",
    "print(f\"Current path is: {os.getcwd()}\")\n"
   ]
  },
  {
   "cell_type": "markdown",
   "id": "a265a0d9",
   "metadata": {},
   "source": [
    "Let's take a look at the downloaded DeePMD-kit_Tutorial folder."
   ]
  },
  {
   "cell_type": "code",
   "execution_count": 1,
   "id": "2ea12f86",
   "metadata": {},
   "outputs": [
    {
     "name": "stdout",
     "output_type": "stream",
     "text": [
      "DeePMD-kit_Tutorial [error opening dir]\n",
      "\n",
      "0 directories, 0 files\n"
     ]
    }
   ],
   "source": [
    "! tree DeePMD-kit_Tutorial -L 1"
   ]
  },
  {
   "cell_type": "markdown",
   "id": "1da4b858",
   "metadata": {},
   "source": [
    "There are 3 subfolders under the DeePMD-kit_Tutorial folder: 00.data, 01.train, and 02.lmp.\n",
    "\n",
    "- The 00.data folder is used to store training and testing data.\n",
    "- The 01.train folder contains example scripts for training models using DeePMD-kit.\n",
    "- The 01.train.finished folder includes the complete results of the training process.\n",
    "- The 02.lmp folder contains example scripts for molecular dynamics simulations using LAMMPS.\n",
    "\n",
    "Let's first take a look at the DeePMD-kit_Tutorial/00.data folder."
   ]
  },
  {
   "cell_type": "code",
   "execution_count": 6,
   "id": "509f7efe",
   "metadata": {},
   "outputs": [
    {
     "data": {
      "name": "stdout",
      "text": "\u001b[01;34mDeePMD-kit_Tutorial/00.data\u001b[00m\r\n├── \u001b[01;34mabacus_md\u001b[00m\r\n├── \u001b[01;34mtraining_data\u001b[00m\r\n└── \u001b[01;34mvalidation_data\u001b[00m\r\n\r\n3 directories, 0 files\r\n"
     },
     "id": "13c3081d-e2268092b555b42a82e83f2c_65_37",
     "meta": {},
     "name": "stdout",
     "output_type": "stream",
     "parent_header": {
      "date": "2024-03-14T13:43:22.517616Z",
      "msg_id": "13c3081d-e2268092b555b42a82e83f2c_65_37",
      "msg_type": "stream",
      "session": "13c3081d-e2268092b555b42a82e83f2c",
      "username": "username",
      "version": "5.3"
     },
     "text": [
      "\u001b[01;34mDeePMD-kit_Tutorial/00.data\u001b[00m\n",
      "├── \u001b[01;34mabacus_md\u001b[00m\n",
      "├── \u001b[01;34mtraining_data\u001b[00m\n",
      "└── \u001b[01;34mvalidation_data\u001b[00m\n",
      "\n",
      "3 directories, 0 files\n"
     ]
    },
    {
     "data": {
      "execution_count": 6,
      "payload": [],
      "status": "ok",
      "user_expressions": {}
     },
     "id": "13c3081d-e2268092b555b42a82e83f2c_65_38",
     "meta": {
      "dependencies_met": true,
      "engine": "a639d4cf-c4b9-4622-aea2-59e612c3c51e",
      "started": "2024-03-14T13:43:22.179864Z",
      "status": "ok"
     },
     "output_type": "execute_reply",
     "parent_header": {
      "date": "2024-03-14T13:43:22.619978Z",
      "msg_id": "13c3081d-e2268092b555b42a82e83f2c_65_38",
      "msg_type": "execute_reply",
      "session": "13c3081d-e2268092b555b42a82e83f2c",
      "username": "username",
      "version": "5.3"
     }
    }
   ],
   "source": [
    "! tree DeePMD-kit_Tutorial/00.data -L 1"
   ]
  },
  {
   "cell_type": "code",
   "execution_count": null,
   "id": "ff2cbb54-b81c-44d6-b6fe-bd85f0c4cb8b",
   "metadata": {},
   "outputs": [],
   "source": []
  },
  {
   "cell_type": "markdown",
   "id": "8373a3a4",
   "metadata": {},
   "source": [
    "DeePMD-kit's training data originates from first-principles calculation data, including atomic types, simulation cells, atomic coordinates, atomic forces, system energies, and virials.\n",
    "\n",
    "<div align=\"left\" style=\"margin:1.5rem\"><img src=\"https://ars.els-cdn.com/content/image/1-s2.0-S0010465518300882-gr1_lrg.jpg\" alt=\"image-20230116161737203\" style=\"zoom: 25%;\"></div>\n",
    "\n",
    "In the *00.data* folder, there is only the *abacus_md* folder, which contains data obtained through *ab initio* Molecular Dynamics (AIMD) simulations using ABACUS. In this tutorial, we have already completed the *ab initio* molecular dynamics calculations for the methane molecule for you.\n",
    "\n",
    "Detailed information about ABACUS can be found in its [documentation](https://abacus.deepmodeling.com/en/latest/). \n",
    "\n",
    "DeePMD-kit uses a compressed data format. All training data should first be converted into this format before they can be used in DeePMD-kit. This data format is explained in detail in the DeePMD-kit manual, which can be found on [DeePMD-kit's Github](http://www.github.com/deepmodeling/deepmd-kit).\n",
    "\n",
    "We provide a convenient tool **dpdata**, which can convert data generated by VASP, CP2K, Gaussian, Quantum Espresso, ABACUS, and LAMMPS into DeePMD-kit's compressed format.\n",
    "\n",
    "A snapshot of a molecular system that contains computational data information is called a frame. A data system comprises many frames sharing the same number of atoms and atom types.\n",
    "\n",
    "For example, a molecular dynamics trajectory can be converted into a data system, where each timestep corresponds to one frame in the system.\n"
   ]
  },
  {
   "cell_type": "markdown",
   "id": "e62f0115",
   "metadata": {},
   "source": [
    "Next, we use the dpdata tool to randomly split the data in abacus_md into training and validation data.\n"
   ]
  },
  {
   "cell_type": "code",
   "execution_count": 5,
   "id": "b5fbc838",
   "metadata": {},
   "outputs": [
    {
     "name": "stdout",
     "output_type": "stream",
     "text": [
      "# the data contains 201 frames\n",
      "# the training data contains 161 frames\n",
      "# the validation data contains 40 frames\n"
     ]
    },
    {
     "name": "stderr",
     "output_type": "stream",
     "text": [
      "/public/home/huangyiru/.local/lib/python3.10/site-packages/dpdata/system.py:1106: UserWarning: Data type move is registered twice; only the newly registered one will be used.\n",
      "  warnings.warn(\n"
     ]
    }
   ],
   "source": [
    "import dpdata \n",
    "import numpy as np\n",
    "\n",
    "# load data of abacus/md format\n",
    "data = dpdata.LabeledSystem('/public/home/huangyiru/My-Work/CACFM/aml-intro-main 2/DeePMD-kit_Tutorial/00.data/abacus_md', fmt = 'abacus/md') \n",
    "print('# the data contains %d frames' % len(data))\n",
    "\n",
    "# random choose 40 index for validation_data\n",
    "index_validation = np.random.choice(201,size=40,replace=False)\n",
    "\n",
    "# other indexes are training_data\n",
    "index_training = list(set(range(201))-set(index_validation))\n",
    "data_training = data.sub_system(index_training)\n",
    "data_validation = data.sub_system(index_validation)\n",
    "\n",
    "# all training data put into directory:\"training_data\"\n",
    "data_training.to_deepmd_npy('DeePMD-kit_Tutorial/00.data/training_data')\n",
    "\n",
    "# all validation data put into directory:\"validation_data\"\n",
    "data_validation.to_deepmd_npy('DeePMD-kit_Tutorial/00.data/validation_data')\n",
    "\n",
    "print('# the training data contains %d frames' % len(data_training)) \n",
    "print('# the validation data contains %d frames' % len(data_validation)) "
   ]
  },
  {
   "cell_type": "markdown",
   "id": "98719865-ab3d-4440-8c14-78a1c253c3a6",
   "metadata": {},
   "source": [
    "As you can see, 161 frames are picked as training data, and the other 40 frames are validation dat.\n",
    "\n",
    "Let's take another look at the 00.data folder, where new files have been generated, which are the training and validation sets required for Deep Potential training with DeePMD-kit.\n"
   ]
  },
  {
   "cell_type": "code",
   "execution_count": 25,
   "id": "e5befaf5-c464-4e8f-8544-a2634f5fd1d2",
   "metadata": {},
   "outputs": [
    {
     "name": "stdout",
     "output_type": "stream",
     "text": [
      "\u001b[38;5;33mDeePMD-kit_Tutorial/00.data/\u001b[0m\n",
      "├── \u001b[38;5;33mabacus_md\u001b[0m\n",
      "├── \u001b[38;5;33mtraining_data\u001b[0m\n",
      "└── \u001b[38;5;33mvalidation_data\u001b[0m\n",
      "\n",
      "3 directories, 0 files\n"
     ]
    }
   ],
   "source": [
    "! tree DeePMD-kit_Tutorial/00.data/ -L 1"
   ]
  },
  {
   "cell_type": "code",
   "execution_count": 26,
   "id": "70cc9898",
   "metadata": {},
   "outputs": [
    {
     "name": "stdout",
     "output_type": "stream",
     "text": [
      "\u001b[38;5;33mDeePMD-kit_Tutorial/00.data/training_data\u001b[0m\n",
      "├── \u001b[38;5;33mset.000\u001b[0m\n",
      "├── type_map.raw\n",
      "└── type.raw\n",
      "\n",
      "1 directory, 2 files\n"
     ]
    }
   ],
   "source": [
    "! tree DeePMD-kit_Tutorial/00.data/training_data -L 1"
   ]
  },
  {
   "cell_type": "markdown",
   "id": "542b24fd",
   "metadata": {},
   "source": [
    "The functions of these files are as follows:\n",
    "\n",
    "- set.000: It is a directory that contains compressed format data (NumPy compressed arrays).\n",
    "- type.raw: It is a file that contains the types of atoms (represented as integers).\n",
    "- type_map.raw: It is a file that contains the names of the types of atoms.\n",
    "\n",
    "Let's take a look at these files."
   ]
  },
  {
   "cell_type": "markdown",
   "id": "99770e51-4d9e-44db-bb93-1c7061c8862c",
   "metadata": {},
   "source": [
    "Let's have a look at `type.raw`:"
   ]
  },
  {
   "cell_type": "code",
   "execution_count": 27,
   "id": "a686585c-3e5b-4a5c-9cc7-4db7759b74b2",
   "metadata": {},
   "outputs": [
    {
     "name": "stdout",
     "output_type": "stream",
     "text": [
      "0\n",
      "0\n",
      "0\n",
      "0\n",
      "1\n"
     ]
    }
   ],
   "source": [
    "! cat DeePMD-kit_Tutorial/00.data/training_data/type.raw "
   ]
  },
  {
   "cell_type": "markdown",
   "id": "b5357cc5-9cdd-4c52-a611-a84cee739fb0",
   "metadata": {},
   "source": [
    "This tells us there are 5 atoms in this example, 4 atoms represented by type \"0\", and 1 atom represented by type \"1\".\n",
    "Sometimes one needs to map the integer types to atom name. The mapping can be given by the file `type_map.raw`"
   ]
  },
  {
   "cell_type": "code",
   "execution_count": 28,
   "id": "6216f02d-3a21-481f-99da-3f23b438a7c0",
   "metadata": {},
   "outputs": [
    {
     "name": "stdout",
     "output_type": "stream",
     "text": [
      "H\n",
      "C\n"
     ]
    }
   ],
   "source": [
    "! cat DeePMD-kit_Tutorial/00.data/training_data/type_map.raw"
   ]
  },
  {
   "cell_type": "markdown",
   "id": "1196aa0f-22c5-4b96-8640-c82068fa7828",
   "metadata": {},
   "source": [
    "This tells us the type \"0\" is named by \"H\", and the type \"1\" is named by \"C\".\n",
    "\n",
    "More detailed documentation on using dpdata for data conversion can be found [here](https://docs.deepmodeling.org/projects/deepmd/en/master/data/data-conv.html)"
   ]
  },
  {
   "cell_type": "markdown",
   "id": "ac6c969b-10cb-49f0-9b84-7dc9ffa38c61",
   "metadata": {},
   "source": [
    "### 2 Prepare input script  <a id ='inputscript'></a>\n",
    "Once the data preparation is done, we can go on with training. Now go to the training directory.\n",
    "DeePMD-kit requires a `json` format file to specify parameters for training. "
   ]
  },
  {
   "cell_type": "code",
   "execution_count": 29,
   "id": "d371a240",
   "metadata": {},
   "outputs": [
    {
     "name": "stdout",
     "output_type": "stream",
     "text": [
      "{\n",
      "    \"_comment\": \" model parameters\",\n",
      "    \"model\": {\n",
      "\t\"type_map\":\t[\"H\", \"C\"],\n",
      "\t\"descriptor\" :{\n",
      "\t    \"type\":\t\t\"se_e2_a\",\n",
      "\t    \"sel\":\t\t\"auto\",\n",
      "\t    \"rcut_smth\":\t0.50,\n",
      "\t    \"rcut\":\t\t6.00,\n",
      "\t    \"neuron\":\t\t[25, 50, 100],\n",
      "\t    \"resnet_dt\":\tfalse,\n",
      "\t    \"axis_neuron\":\t16,\n",
      "\t    \"seed\":\t\t1,\n",
      "\t    \"_comment\":\t\t\" that's all\"\n",
      "\t},\n",
      "\t\"fitting_net\" : {\n",
      "\t    \"neuron\":\t\t[240, 240, 240],\n",
      "\t    \"resnet_dt\":\ttrue,\n",
      "\t    \"seed\":\t\t1,\n",
      "\t    \"_comment\":\t\t\" that's all\"\n",
      "\t},\n",
      "\t\"_comment\":\t\" that's all\"\n",
      "    },\n",
      "\n",
      "    \"learning_rate\" :{\n",
      "\t\"type\":\t\t\"exp\",\n",
      "\t\"decay_steps\":\t50,\n",
      "\t\"start_lr\":\t0.001,\t\n",
      "\t\"stop_lr\":\t3.51e-8,\n",
      "\t\"_comment\":\t\"that's all\"\n",
      "    },\n",
      "\n",
      "    \"loss\" :{\n",
      "\t\"type\":\t\t\"ener\",\n",
      "\t\"start_pref_e\":\t0.02,\n",
      "\t\"limit_pref_e\":\t1,\n",
      "\t\"start_pref_f\":\t1000,\n",
      "\t\"limit_pref_f\":\t1,\n",
      "\t\"start_pref_v\":\t0,\n",
      "\t\"limit_pref_v\":\t0,\n",
      "\t\"_comment\":\t\" that's all\"\n",
      "    },\n",
      "\n",
      "    \"training\" : {\n",
      "\t\"training_data\": {\n",
      "\t    \"systems\":     [\"../00.data/training_data\"],\n",
      "\t    \"batch_size\":  \"auto\",\n",
      "\t    \"_comment\":\t   \"that's all\"\n",
      "\t},\n",
      "\t\"validation_data\":{\n",
      "\t    \"systems\":\t   [\"../00.data/validation_data\"],\n",
      "\t    \"batch_size\":  \"auto\",\n",
      "\t    \"numb_btch\":   1,\n",
      "\t    \"_comment\":\t   \"that's all\"\n",
      "\t},\n",
      "\t\"numb_steps\":\t10000,\n",
      "\t\"seed\":\t\t10,\n",
      "\t\"disp_file\":\t\"lcurve.out\",\n",
      "\t\"disp_freq\":\t200,\n",
      "\t\"save_freq\":\t1000,\n",
      "\t\"_comment\":\t\"that's all\"\n",
      "    },    \n",
      "\n",
      "    \"_comment\":\t\t\"that's all\"\n",
      "}\n",
      "\n"
     ]
    }
   ],
   "source": [
    "! cd DeePMD-kit_Tutorial/01.train/ && cat input.json"
   ]
  },
  {
   "cell_type": "markdown",
   "id": "0a4c680a-abcf-40b9-b00e-fa4615aa91b9",
   "metadata": {},
   "source": [
    "DeePMD-kit requires a `json` format file to specify parameters for training. \n",
    "\n",
    "In the model section, the parameters of embedding and fitting networks are specified.\n",
    "```json\n",
    "\"model\":{\n",
    "    \"type_map\":    [\"H\", \"C\"],                 \n",
    "    \"descriptor\":{\n",
    "        \"type\":            \"se_e2_a\",          \n",
    "        \"rcut\":            6.00,               \n",
    "        \"rcut_smth\":       0.50,               \n",
    "        \"sel\":             \"auto\",             \n",
    "        \"neuron\":          [25, 50, 100],       \n",
    "        \"resnet_dt\":       false,\n",
    "        \"axis_neuron\":     16,                  \n",
    "        \"seed\":            1,\n",
    "        \"_comment\":        \"that's all\"\n",
    "        },\n",
    "    \"fitting_net\":{\n",
    "        \"neuron\":          [240, 240, 240],    \n",
    "        \"resnet_dt\":       true,\n",
    "        \"seed\":            1,\n",
    "        \"_comment\":        \"that's all\"\n",
    "    },\n",
    "    \"_comment\":    \"that's all\"'\n",
    "},\n",
    "```\n",
    "The explanation for some of the parameters is as follows:\n",
    "\n",
    "| Parameter                | Expiation                                                    |\n",
    "| ------------------------ | ------------------------------------------------------------ |\n",
    "| type_map                 | *the* *name* *of* *each* *type* *of* *atom*                  |\n",
    "| descriptor > type        | *the* *type* *of* *descriptor*                               |\n",
    "| descriptor > rcut        | *cut-off* *radius*                                           |\n",
    "| descriptor > rcut_smth   | *where* *the* *smoothing* *starts*                           |\n",
    "| descriptor > sel         | *the* *maximum* *number* *of* *type* *i* *atoms* *in* *the* *cut-off* *radius* |\n",
    "| descriptor > neuron      | *size* *of* *the* *embedding* *neural* *network*             |\n",
    "| descriptor > axis_neuron | *the* *size* *of* *the* *submatrix* *of* *G* *(embedding* *matrix)* |\n",
    "| fitting_net > neuron     | *size* *of* *the* *fitting* *neural* *network*               |\n",
    "\n",
    "The `se_e2_a` descriptor is used to train the DP model. The item neurons set the size of the descriptors and fitting network to [25, 50, 100] and [240, 240, 240], respectively. The components in local environment to smoothly go to zero from 0.5 to 6 Å.\n",
    "\n",
    "The following are the parameters that specify the learning rate and loss function.\n",
    "```json\n",
    "    \"learning_rate\" :{\n",
    "        \"type\":                \"exp\",\n",
    "        \"decay_steps\":         50,\n",
    "        \"start_lr\":            0.001,    \n",
    "        \"stop_lr\":             3.51e-8,\n",
    "        \"_comment\":            \"that's all\"\n",
    "    },\n",
    "    \"loss\" :{\n",
    "        \"type\":                \"ener\",\n",
    "        \"start_pref_e\":        0.02,\n",
    "        \"limit_pref_e\":        1,\n",
    "        \"start_pref_f\":        1000,\n",
    "        \"limit_pref_f\":        1,\n",
    "        \"start_pref_v\":        0,\n",
    "        \"limit_pref_v\":        0,\n",
    "        \"_comment\":            \"that's all\"\n",
    "    },\n",
    "```\n",
    "In the loss function, `pref_e` increases from 0.02 to 1, and `pref_f` decreases from 1000 to 1  progressively, which means that the force term dominates at the beginning, while energy and virial terms become important at the end. This strategy is very effective and reduces the total training time. `pref_v` is set to 0 , indicating that no virial data are included in the training process. The starting learning rate, stop learning rate, and decay steps are set to 0.001, 3.51e-8, and 50, respectively. The model is trained for 10000 steps.\n",
    "\n",
    "The training parameters are given in the following\n",
    "```json\n",
    "    \"training\" : {\n",
    "        \"training_data\": {\n",
    "            \"systems\":            [\"../00.data/training_data\"],     \n",
    "            \"batch_size\":         \"auto\",                       \n",
    "            \"_comment\":           \"that's all\"\n",
    "        },\n",
    "        \"validation_data\":{\n",
    "            \"systems\":            [\"../00.data/validation_data/\"],\n",
    "            \"batch_size\":         \"auto\",               \n",
    "            \"numb_btch\":          1,\n",
    "            \"_comment\":           \"that's all\"\n",
    "        },\n",
    "        \"numb_steps\":             10000,                           \n",
    "        \"seed\":                   10,\n",
    "        \"disp_file\":              \"lcurve.out\",\n",
    "        \"disp_freq\":              200,\n",
    "        \"save_freq\":              10000,\n",
    "        },\n",
    "```"
   ]
  },
  {
   "cell_type": "markdown",
   "id": "7b0edb0f-df47-4e6c-8c37-5f32c4bd6b39",
   "metadata": {},
   "source": [
    "More detailed docs about Data conversion can be found [here](https://docs.deepmodeling.org/projects/deepmd/en/master/data/data-conv.html)"
   ]
  },
  {
   "cell_type": "markdown",
   "id": "bafe20b8-3bde-403c-ae42-b68ba5f29703",
   "metadata": {},
   "source": [
    "### 3 Train a model  <a id ='train'></a>\n",
    "After the training script is prepared, we can start the training with DeePMD-kit by simply running"
   ]
  },
  {
   "cell_type": "code",
   "execution_count": 30,
   "id": "e04a05a3-ccac-474b-bc24-58fbf20b9ffe",
   "metadata": {
    "scrolled": true,
    "tags": []
   },
   "outputs": [
    {
     "name": "stdout",
     "output_type": "stream",
     "text": [
      "2025-05-06 10:15:07.644341: E external/local_xla/xla/stream_executor/cuda/cuda_fft.cc:485] Unable to register cuFFT factory: Attempting to register factory for plugin cuFFT when one has already been registered\n",
      "2025-05-06 10:15:07.656771: E external/local_xla/xla/stream_executor/cuda/cuda_dnn.cc:8454] Unable to register cuDNN factory: Attempting to register factory for plugin cuDNN when one has already been registered\n",
      "2025-05-06 10:15:07.660591: E external/local_xla/xla/stream_executor/cuda/cuda_blas.cc:1452] Unable to register cuBLAS factory: Attempting to register factory for plugin cuBLAS when one has already been registered\n",
      "2025-05-06 10:15:07.670829: I tensorflow/core/platform/cpu_feature_guard.cc:210] This TensorFlow binary is optimized to use available CPU instructions in performance-critical operations.\n",
      "To enable the following instructions: AVX2 FMA, in other operations, rebuild TensorFlow with the appropriate compiler flags.\n",
      "2025-05-06 10:15:08.477414: W tensorflow/compiler/tf2tensorrt/utils/py_utils.cc:38] TF-TRT Warning: Could not find TensorRT\n",
      "To get the best performance, it is recommended to adjust the number of threads by setting the environment variables OMP_NUM_THREADS, DP_INTRA_OP_PARALLELISM_THREADS, and DP_INTER_OP_PARALLELISM_THREADS. See https://deepmd.rtfd.io/parallelism/ for more information.\n",
      "Switch to serial execution due to lack of horovod module.\n",
      "Traceback (most recent call last):\n",
      "  File \"/public/software/mambaforge/envs/deepmd/bin/dp\", line 8, in <module>\n",
      "    sys.exit(main())\n",
      "  File \"/public/software/mambaforge/envs/deepmd/lib/python3.10/site-packages/deepmd/main.py\", line 927, in main\n",
      "    deepmd_main(args)\n",
      "  File \"/public/software/mambaforge/envs/deepmd/lib/python3.10/site-packages/deepmd/tf/entrypoints/main.py\", line 71, in main\n",
      "    train_dp(**dict_args)\n",
      "  File \"/public/software/mambaforge/envs/deepmd/lib/python3.10/site-packages/deepmd/tf/entrypoints/train.py\", line 121, in train\n",
      "    jdata = j_loader(INPUT)\n",
      "  File \"/public/software/mambaforge/envs/deepmd/lib/python3.10/site-packages/deepmd/common.py\", line 179, in j_loader\n",
      "    with filepath.open() as fp:\n",
      "  File \"/public/software/mambaforge/envs/deepmd/lib/python3.10/pathlib.py\", line 1119, in open\n",
      "    return self._accessor.open(self, mode, buffering, encoding, errors,\n",
      "FileNotFoundError: [Errno 2] No such file or directory: 'input.json'\n"
     ]
    }
   ],
   "source": [
    "# ########## Time Warning: 120 secs ##########\n",
    "# ! cd DeePMD-kit_Tutorial/01.train/ && dp train input.json\n",
    "! /public/software/mambaforge/envs/deepmd/bin/dp train input.json\n"
   ]
  },
  {
   "cell_type": "code",
   "execution_count": 23,
   "id": "4dfb4b47-59b5-4835-9854-0dfafc182ec6",
   "metadata": {
    "collapsed": true,
    "jupyter": {
     "outputs_hidden": true
    }
   },
   "outputs": [
    {
     "name": "stdout",
     "output_type": "stream",
     "text": [
      "/usr/bin/which: no dp in (/usr/local/cuda/bin:/public/software/mambaforge/bin:/public/software/mambaforge/condabin:/public/home/huangyiru/.local/bin:/public/home/huangyiru/bin:/opt/gridview/pmix/bin:/opt/gridview/pmix/sbin:/usr/share/Modules/bin:/opt/gridview/slurm/bin:/opt/gridview/slurm/sbin:/opt/gridview/munge/bin:/opt/gridview/munge/sbin:/usr/local/bin:/usr/bin:/usr/local/sbin:/usr/sbin)\n"
     ]
    }
   ],
   "source": [
    "!which dp"
   ]
  },
  {
   "cell_type": "markdown",
   "id": "c10e0a81-ef33-49ab-ae2d-83fbd35985ac",
   "metadata": {
    "tags": []
   },
   "source": [
    "On the screen, you will see the information of the data system(s)\n",
    "\n",
    "```\n",
    "DEEPMD INFO    -----------------------------------------------------------------\n",
    "DEEPMD INFO    ---Summary of DataSystem: training     ----------------------------------\n",
    "DEEPMD INFO    found 1 system(s):\n",
    "DEEPMD INFO                                 system  natoms  bch_sz   n_bch   prob  pbc\n",
    "DEEPMD INFO               ../00.data/training_data       5       7      23  1.000    T\n",
    "DEEPMD INFO    -------------------------------------------------------------------------\n",
    "DEEPMD INFO    ---Summary of DataSystem: validation   ----------------------------------\n",
    "DEEPMD INFO    found 1 system(s):\n",
    "DEEPMD INFO                                 system  natoms  bch_sz   n_bch   prob  pbc\n",
    "DEEPMD INFO             ../00.data/validation_data       5       7       5  1.000    T\n",
    "DEEPMD INFO    -------------------------------------------------------------------------\n",
    "```\n",
    "\n",
    "and the starting and final learning rate of this training\n",
    "\n",
    "```\n",
    "DEEPMD INFO    start training at lr 1.00e-03 (== 1.00e-03), decay_step 50, decay_rate 0.950006, final lr will be 3.51e-08\n",
    "```\n",
    "\n",
    "If everything works fine, you will see, on the screen, information printed every 1000 steps, like\n",
    "\n",
    "```\n",
    "DEEPMD INFO    batch     200 training time 6.04 s, testing time 0.02 s\n",
    "DEEPMD INFO    batch     400 training time 4.80 s, testing time 0.02 s\n",
    "DEEPMD INFO    batch     600 training time 4.80 s, testing time 0.02 s\n",
    "DEEPMD INFO    batch     800 training time 4.78 s, testing time 0.02 s\n",
    "DEEPMD INFO    batch    1000 training time 4.77 s, testing time 0.02 s\n",
    "DEEPMD INFO    saved checkpoint model.ckpt\n",
    "DEEPMD INFO    batch    1200 training time 4.47 s, testing time 0.02 s\n",
    "DEEPMD INFO    batch    1400 training time 4.49 s, testing time 0.02 s\n",
    "DEEPMD INFO    batch    1600 training time 4.45 s, testing time 0.02 s\n",
    "DEEPMD INFO    batch    1800 training time 4.44 s, testing time 0.02 s\n",
    "DEEPMD INFO    batch    2000 training time 4.46 s, testing time 0.02 s\n",
    "DEEPMD INFO    saved checkpoint model.ckpt\n",
    "```\n",
    "\n",
    "They present the training and testing time counts. At the end of the 1000th batch, the model is saved in Tensorflow's checkpoint file `model.ckpt`. At the same time, the training and testing errors are presented in file `lcurve.out`. \n",
    "\n",
    "The file contains 8 columns, form left to right, are the training step, the validation loss, training loss, root mean square (RMS) validation error of energy, RMS training error of energy, RMS validation error of force, RMS training error of force and the learning rate. The RMS error (RMSE) of the energy is normalized by number of atoms in the system. \n",
    "```\n",
    "head -n 2 lcurve.out\n",
    "#  step      rmse_val    rmse_trn    rmse_e_val  rmse_e_trn    rmse_f_val  rmse_f_trn         lr\n",
    "      0      2.02e+01    1.51e+01      1.37e-01    1.41e-01      6.40e-01    4.79e-01    1.0e-03\n",
    "```\n",
    "and\n",
    "```\n",
    "$ tail -n 2 lcurve.out\n",
    "   9800      2.45e-02    4.02e-02      3.20e-04    3.88e-04      2.40e-02    3.94e-02    4.3e-08\n",
    "  10000      4.60e-02    3.76e-02      8.65e-04    5.35e-04      4.52e-02    3.69e-02    3.5e-08\n",
    "```\n",
    "Volumes 4, 5 and 6, 7 present energy and force training and testing errors, respectively. "
   ]
  },
  {
   "cell_type": "code",
   "execution_count": 31,
   "id": "4aabcec8-9058-4582-863d-00550bb05187",
   "metadata": {},
   "outputs": [
    {
     "name": "stdout",
     "output_type": "stream",
     "text": [
      "#  step      rmse_val    rmse_trn    rmse_e_val  rmse_e_trn    rmse_f_val  rmse_f_trn         lr\n",
      "      0      1.79e+01    2.26e+01      1.35e-01    1.33e-01      5.67e-01    7.15e-01    1.0e-03\n",
      "   9800      3.53e-02    2.64e-02      5.75e-04    3.01e-04      3.46e-02    2.59e-02    4.3e-08\n",
      "  10000      2.76e-02    2.25e-02      4.83e-04    1.62e-04      2.71e-02    2.21e-02    3.5e-08\n"
     ]
    }
   ],
   "source": [
    "! cd DeePMD-kit_Tutorial/01.train.finished/ && head -n 2 lcurve.out && tail -n 2 lcurve.out"
   ]
  },
  {
   "cell_type": "markdown",
   "id": "34f3de74-9b9c-4143-94c6-1b91adbfb8d4",
   "metadata": {},
   "source": [
    "The loss function can be visualized to monitor the training process."
   ]
  },
  {
   "cell_type": "code",
   "execution_count": 13,
   "id": "a7444fb4-a869-4b44-a1e3-2d74679189ed",
   "metadata": {},
   "outputs": [
    {
     "data": {
      "image/png": "[encoded data removed]",
      "text/plain": [
       "<Figure size 640x480 with 1 Axes>"
      ]
     },
     "metadata": {},
     "output_type": "display_data"
    }
   ],
   "source": [
    "import numpy as np\n",
    "import matplotlib.pyplot as plt\n",
    "import pandas as pd\n",
    "with open(\"./DeePMD-kit_Tutorial/01.train.finished/lcurve.out\") as f:\n",
    "    headers = f.readline().split()[1:]\n",
    "lcurve = pd.DataFrame(np.loadtxt(\"./DeePMD-kit_Tutorial/01.train.finished/lcurve.out\"), columns =  headers    )\n",
    "legends = [\"rmse_e_val\", \"rmse_e_trn\", \"rmse_f_val\" , \"rmse_f_trn\" ]\n",
    "for legend in legends:\n",
    "    plt.loglog(lcurve[\"step\"], lcurve[legend], label = legend )\n",
    "plt.legend()\n",
    "plt.xlabel(\"Training steps\")\n",
    "plt.ylabel(\"Loss\")\n",
    "plt.show()"
   ]
  },
  {
   "cell_type": "markdown",
   "id": "8009ad0a-9902-42d3-b280-caee92cbdf10",
   "metadata": {},
   "source": [
    "### 4 Freeze a model <a id ='freeze'></a>\n",
    "\n",
    "At the end of the training, the model parameters saved in TensorFlow's checkpoint file should be frozen as a model file that is usually ended with extension .pb. Simply execute"
   ]
  },
  {
   "cell_type": "code",
   "execution_count": 14,
   "id": "b20d368a-135c-4314-ae4c-47bf1f28c4d7",
   "metadata": {
    "scrolled": true,
    "tags": []
   },
   "outputs": [
    {
     "name": "stdout",
     "output_type": "stream",
     "text": [
      "/bin/bash: dp: 未找到命令\n"
     ]
    }
   ],
   "source": [
    "## Navigate to the DeePMD-kit_Tutorial/01.train/ Directory to Train and Freeze the Model\n",
    "! cd DeePMD-kit_Tutorial/01.train.finished/ && dp freeze -o graph.pb"
   ]
  },
  {
   "cell_type": "markdown",
   "id": "3b23f3c9-5809-4a65-9126-f9e6d2f3a10b",
   "metadata": {},
   "source": [
    "and it will output a model file named `graph.pb` in the current directory. "
   ]
  },
  {
   "cell_type": "markdown",
   "id": "1d61e6cf-aed2-43b3-b17f-fb85965a507d",
   "metadata": {},
   "source": [
    "### 5 Compress a model <a id ='compress'></a>\n",
    "\n",
    "To enhance computational efficiency with DP models, compression significantly accelerates DP-based calculations and reduces memory usage. We can compress the model by running:"
   ]
  },
  {
   "cell_type": "code",
   "execution_count": 15,
   "id": "f5ba613d-e92d-4a6b-af18-aeb46acd0031",
   "metadata": {},
   "outputs": [
    {
     "name": "stdout",
     "output_type": "stream",
     "text": [
      "/bin/bash: dp: 未找到命令\n"
     ]
    }
   ],
   "source": [
    "## Navigate to the DeePMD-kit_Tutorial/01.train/ Directory to Compress the Model\n",
    "! cd DeePMD-kit_Tutorial/01.train.finished/ && dp compress -i graph.pb -o compress.pb"
   ]
  },
  {
   "cell_type": "markdown",
   "id": "2882c201-0e85-46d0-94f8-e055a540b6fb",
   "metadata": {},
   "source": [
    "### 6 Test a model <a id ='test'></a>\n",
    "\n",
    "We can check the quality of the trained model by running\n"
   ]
  },
  {
   "cell_type": "code",
   "execution_count": 18,
   "id": "5d201246-b110-4e63-a09b-ad7308bc1367",
   "metadata": {
    "scrolled": true,
    "tags": []
   },
   "outputs": [
    {
     "name": "stdout",
     "output_type": "stream",
     "text": [
      "/bin/bash: dp: 未找到命令\n"
     ]
    }
   ],
   "source": [
    "!cd DeePMD-kit_Tutorial/01.train.finished/ && dp test -m graph.pb -s ../00.data/validation_data"
   ]
  },
  {
   "cell_type": "markdown",
   "id": "7f48e0a9-644f-4588-b9f3-cc115851a1ed",
   "metadata": {},
   "source": [
    "The correlation between predicted data and original data can also be calculated."
   ]
  },
  {
   "cell_type": "code",
   "execution_count": 17,
   "id": "be03c8da-e4f9-439d-bb22-800b651a7737",
   "metadata": {},
   "outputs": [
    {
     "name": "stderr",
     "output_type": "stream",
     "text": [
      "2025-05-06 10:00:07.892145: E external/local_xla/xla/stream_executor/cuda/cuda_fft.cc:485] Unable to register cuFFT factory: Attempting to register factory for plugin cuFFT when one has already been registered\n",
      "2025-05-06 10:00:07.904906: E external/local_xla/xla/stream_executor/cuda/cuda_dnn.cc:8454] Unable to register cuDNN factory: Attempting to register factory for plugin cuDNN when one has already been registered\n",
      "2025-05-06 10:00:07.908741: E external/local_xla/xla/stream_executor/cuda/cuda_blas.cc:1452] Unable to register cuBLAS factory: Attempting to register factory for plugin cuBLAS when one has already been registered\n",
      "2025-05-06 10:00:07.919075: I tensorflow/core/platform/cpu_feature_guard.cc:210] This TensorFlow binary is optimized to use available CPU instructions in performance-critical operations.\n",
      "To enable the following instructions: AVX2 FMA, in other operations, rebuild TensorFlow with the appropriate compiler flags.\n",
      "2025-05-06 10:00:13.631276: W tensorflow/compiler/tf2tensorrt/utils/py_utils.cc:38] TF-TRT Warning: Could not find TensorRT\n",
      "To get the best performance, it is recommended to adjust the number of threads by setting the environment variables OMP_NUM_THREADS, DP_INTRA_OP_PARALLELISM_THREADS, and DP_INTER_OP_PARALLELISM_THREADS. See https://deepmd.rtfd.io/parallelism/ for more information.\n",
      "WARNING: All log messages before absl::InitializeLog() is called are written to STDERR\n",
      "I0000 00:00:1746496820.341941  854501 cuda_executor.cc:1015] successful NUMA node read from SysFS had negative value (-1), but there must be at least one NUMA node, so returning NUMA node zero. See more at https://github.com/torvalds/linux/blob/v6.0/Documentation/ABI/testing/sysfs-bus-pci#L344-L355\n",
      "I0000 00:00:1746496820.342176  854501 cuda_executor.cc:1015] successful NUMA node read from SysFS had negative value (-1), but there must be at least one NUMA node, so returning NUMA node zero. See more at https://github.com/torvalds/linux/blob/v6.0/Documentation/ABI/testing/sysfs-bus-pci#L344-L355\n",
      "I0000 00:00:1746496820.342363  854501 cuda_executor.cc:1015] successful NUMA node read from SysFS had negative value (-1), but there must be at least one NUMA node, so returning NUMA node zero. See more at https://github.com/torvalds/linux/blob/v6.0/Documentation/ABI/testing/sysfs-bus-pci#L344-L355\n",
      "I0000 00:00:1746496820.342626  854501 cuda_executor.cc:1015] successful NUMA node read from SysFS had negative value (-1), but there must be at least one NUMA node, so returning NUMA node zero. See more at https://github.com/torvalds/linux/blob/v6.0/Documentation/ABI/testing/sysfs-bus-pci#L344-L355\n",
      "I0000 00:00:1746496820.342781  854501 cuda_executor.cc:1015] successful NUMA node read from SysFS had negative value (-1), but there must be at least one NUMA node, so returning NUMA node zero. See more at https://github.com/torvalds/linux/blob/v6.0/Documentation/ABI/testing/sysfs-bus-pci#L344-L355\n",
      "I0000 00:00:1746496820.342932  854501 cuda_executor.cc:1015] successful NUMA node read from SysFS had negative value (-1), but there must be at least one NUMA node, so returning NUMA node zero. See more at https://github.com/torvalds/linux/blob/v6.0/Documentation/ABI/testing/sysfs-bus-pci#L344-L355\n",
      "I0000 00:00:1746496820.343079  854501 cuda_executor.cc:1015] successful NUMA node read from SysFS had negative value (-1), but there must be at least one NUMA node, so returning NUMA node zero. See more at https://github.com/torvalds/linux/blob/v6.0/Documentation/ABI/testing/sysfs-bus-pci#L344-L355\n",
      "I0000 00:00:1746496820.343225  854501 cuda_executor.cc:1015] successful NUMA node read from SysFS had negative value (-1), but there must be at least one NUMA node, so returning NUMA node zero. See more at https://github.com/torvalds/linux/blob/v6.0/Documentation/ABI/testing/sysfs-bus-pci#L344-L355\n",
      "I0000 00:00:1746496820.343374  854501 cuda_executor.cc:1015] successful NUMA node read from SysFS had negative value (-1), but there must be at least one NUMA node, so returning NUMA node zero. See more at https://github.com/torvalds/linux/blob/v6.0/Documentation/ABI/testing/sysfs-bus-pci#L344-L355\n",
      "I0000 00:00:1746496820.357067  854501 cuda_executor.cc:1015] successful NUMA node read from SysFS had negative value (-1), but there must be at least one NUMA node, so returning NUMA node zero. See more at https://github.com/torvalds/linux/blob/v6.0/Documentation/ABI/testing/sysfs-bus-pci#L344-L355\n",
      "I0000 00:00:1746496820.357251  854501 cuda_executor.cc:1015] successful NUMA node read from SysFS had negative value (-1), but there must be at least one NUMA node, so returning NUMA node zero. See more at https://github.com/torvalds/linux/blob/v6.0/Documentation/ABI/testing/sysfs-bus-pci#L344-L355\n",
      "I0000 00:00:1746496820.357420  854501 cuda_executor.cc:1015] successful NUMA node read from SysFS had negative value (-1), but there must be at least one NUMA node, so returning NUMA node zero. See more at https://github.com/torvalds/linux/blob/v6.0/Documentation/ABI/testing/sysfs-bus-pci#L344-L355\n",
      "I0000 00:00:1746496820.357580  854501 cuda_executor.cc:1015] successful NUMA node read from SysFS had negative value (-1), but there must be at least one NUMA node, so returning NUMA node zero. See more at https://github.com/torvalds/linux/blob/v6.0/Documentation/ABI/testing/sysfs-bus-pci#L344-L355\n",
      "I0000 00:00:1746496820.357733  854501 cuda_executor.cc:1015] successful NUMA node read from SysFS had negative value (-1), but there must be at least one NUMA node, so returning NUMA node zero. See more at https://github.com/torvalds/linux/blob/v6.0/Documentation/ABI/testing/sysfs-bus-pci#L344-L355\n",
      "I0000 00:00:1746496820.357884  854501 cuda_executor.cc:1015] successful NUMA node read from SysFS had negative value (-1), but there must be at least one NUMA node, so returning NUMA node zero. See more at https://github.com/torvalds/linux/blob/v6.0/Documentation/ABI/testing/sysfs-bus-pci#L344-L355\n",
      "I0000 00:00:1746496820.358041  854501 cuda_executor.cc:1015] successful NUMA node read from SysFS had negative value (-1), but there must be at least one NUMA node, so returning NUMA node zero. See more at https://github.com/torvalds/linux/blob/v6.0/Documentation/ABI/testing/sysfs-bus-pci#L344-L355\n",
      "2025-05-06 10:00:20.358173: I tensorflow/core/common_runtime/gpu/gpu_device.cc:2021] Created device /job:localhost/replica:0/task:0/device:GPU:0 with 22283 MB memory:  -> device: 0, name: NVIDIA GeForce RTX 4090, pci bus id: 0000:81:00.0, compute capability: 8.9\n",
      "I0000 00:00:1746496820.358471  854501 cuda_executor.cc:1015] successful NUMA node read from SysFS had negative value (-1), but there must be at least one NUMA node, so returning NUMA node zero. See more at https://github.com/torvalds/linux/blob/v6.0/Documentation/ABI/testing/sysfs-bus-pci#L344-L355\n",
      "2025-05-06 10:00:20.358602: I tensorflow/core/common_runtime/gpu/gpu_device.cc:2021] Created device /job:localhost/replica:0/task:0/device:GPU:1 with 17208 MB memory:  -> device: 1, name: NVIDIA GeForce RTX 4090, pci bus id: 0000:c1:00.0, compute capability: 8.9\n",
      "I0000 00:00:1746496820.358870  854501 cuda_executor.cc:1015] successful NUMA node read from SysFS had negative value (-1), but there must be at least one NUMA node, so returning NUMA node zero. See more at https://github.com/torvalds/linux/blob/v6.0/Documentation/ABI/testing/sysfs-bus-pci#L344-L355\n",
      "2025-05-06 10:00:20.359000: I tensorflow/core/common_runtime/gpu/gpu_device.cc:2021] Created device /job:localhost/replica:0/task:0/device:GPU:2 with 20540 MB memory:  -> device: 2, name: NVIDIA GeForce RTX 4090, pci bus id: 0000:c2:00.0, compute capability: 8.9\n",
      "2025-05-06 10:00:20.380535: I tensorflow/compiler/mlir/mlir_graph_optimization_pass.cc:388] MLIR V1 optimization pass is not enabled\n",
      "I0000 00:00:1746496820.400726  854501 cuda_executor.cc:1015] successful NUMA node read from SysFS had negative value (-1), but there must be at least one NUMA node, so returning NUMA node zero. See more at https://github.com/torvalds/linux/blob/v6.0/Documentation/ABI/testing/sysfs-bus-pci#L344-L355\n",
      "I0000 00:00:1746496820.400966  854501 cuda_executor.cc:1015] successful NUMA node read from SysFS had negative value (-1), but there must be at least one NUMA node, so returning NUMA node zero. See more at https://github.com/torvalds/linux/blob/v6.0/Documentation/ABI/testing/sysfs-bus-pci#L344-L355\n",
      "I0000 00:00:1746496820.401148  854501 cuda_executor.cc:1015] successful NUMA node read from SysFS had negative value (-1), but there must be at least one NUMA node, so returning NUMA node zero. See more at https://github.com/torvalds/linux/blob/v6.0/Documentation/ABI/testing/sysfs-bus-pci#L344-L355\n",
      "I0000 00:00:1746496820.401334  854501 cuda_executor.cc:1015] successful NUMA node read from SysFS had negative value (-1), but there must be at least one NUMA node, so returning NUMA node zero. See more at https://github.com/torvalds/linux/blob/v6.0/Documentation/ABI/testing/sysfs-bus-pci#L344-L355\n",
      "I0000 00:00:1746496820.401480  854501 cuda_executor.cc:1015] successful NUMA node read from SysFS had negative value (-1), but there must be at least one NUMA node, so returning NUMA node zero. See more at https://github.com/torvalds/linux/blob/v6.0/Documentation/ABI/testing/sysfs-bus-pci#L344-L355\n",
      "I0000 00:00:1746496820.401616  854501 cuda_executor.cc:1015] successful NUMA node read from SysFS had negative value (-1), but there must be at least one NUMA node, so returning NUMA node zero. See more at https://github.com/torvalds/linux/blob/v6.0/Documentation/ABI/testing/sysfs-bus-pci#L344-L355\n",
      "I0000 00:00:1746496820.401751  854501 cuda_executor.cc:1015] successful NUMA node read from SysFS had negative value (-1), but there must be at least one NUMA node, so returning NUMA node zero. See more at https://github.com/torvalds/linux/blob/v6.0/Documentation/ABI/testing/sysfs-bus-pci#L344-L355\n",
      "I0000 00:00:1746496820.401887  854501 cuda_executor.cc:1015] successful NUMA node read from SysFS had negative value (-1), but there must be at least one NUMA node, so returning NUMA node zero. See more at https://github.com/torvalds/linux/blob/v6.0/Documentation/ABI/testing/sysfs-bus-pci#L344-L355\n",
      "I0000 00:00:1746496820.402022  854501 cuda_executor.cc:1015] successful NUMA node read from SysFS had negative value (-1), but there must be at least one NUMA node, so returning NUMA node zero. See more at https://github.com/torvalds/linux/blob/v6.0/Documentation/ABI/testing/sysfs-bus-pci#L344-L355\n"
     ]
    }
   ],
   "source": [
    "import dpdata\n",
    "\n",
    "training_systems = dpdata.LabeledSystem(\"./DeePMD-kit_Tutorial/00.data/training_data\", fmt = \"deepmd/npy\")  \n",
    "predict = training_systems.predict(\"./DeePMD-kit_Tutorial/01.train.finished/graph.pb\")  "
   ]
  },
  {
   "cell_type": "code",
   "execution_count": 19,
   "id": "b4005a62-8bf2-4aaf-8865-20ea303ea0f2",
   "metadata": {},
   "outputs": [
    {
     "data": {
      "text/plain": [
       "[]"
      ]
     },
     "execution_count": 19,
     "metadata": {},
     "output_type": "execute_result"
    },
    {
     "data": {
      "image/png": "[encoded data removed]",
      "text/plain": [
       "<Figure size 640x480 with 1 Axes>"
      ]
     },
     "metadata": {},
     "output_type": "display_data"
    }
   ],
   "source": [
    "import matplotlib.pyplot as plt\n",
    "import numpy as np\n",
    "\n",
    "plt.scatter(training_systems[\"energies\"], predict[\"energies\"])\n",
    "\n",
    "x_range = np.linspace(plt.xlim()[0], plt.xlim()[1])\n",
    "\n",
    "plt.plot(x_range, x_range, \"r--\", linewidth = 0.25)\n",
    "plt.xlabel(\"Energy of DFT\")\n",
    "plt.ylabel(\"Energy predicted by deep potential\")\n",
    "plt.plot()"
   ]
  },
  {
   "cell_type": "markdown",
   "id": "fffaad23-53a6-47dd-8d91-9beb68d1212b",
   "metadata": {},
   "source": [
    "### 7 Run MD with LAMMPS\n",
    "\n",
    "The model can drive molecular dynamics in LAMMPS. \n"
   ]
  },
  {
   "cell_type": "code",
   "execution_count": 20,
   "id": "d0ceac75-9753-4ae8-b954-c2cc6d005e46",
   "metadata": {},
   "outputs": [
    {
     "name": "stdout",
     "output_type": "stream",
     "text": [
      " AI+simulation.ipynb\n",
      " DeePMD.ipynb\n",
      " DeePMD-kit-FastLearn\n",
      " DeePMD-kit_Tutorial\n",
      " iron-snapshot.xyz\n",
      " LICENSE\n",
      " notebooks\n",
      " README.md\n",
      " requirements.txt\n",
      " selected-env.jpg\n",
      " slides\n",
      "'Structural representations for materials and molecules.ipynb'\n",
      "\u001b[38;5;33m.\u001b[0m\n",
      "├── ch4.dump\n",
      "├── conf.lmp\n",
      "├── graph.pb\n",
      "├── in.lammps\n",
      "└── log.lammps\n",
      "\n",
      "0 directories, 5 files\n"
     ]
    }
   ],
   "source": [
    "! ls\n",
    "! cd ./DeePMD-kit_Tutorial/02.lmp && cp ../01.train.finished/graph.pb ./ && tree -L 1"
   ]
  },
  {
   "cell_type": "markdown",
   "id": "c794572f-7e9c-42f7-b78a-4d82bd3f3118",
   "metadata": {},
   "source": [
    "Here `conf.lmp` gives the initial configuration of a gas phase methane MD simulation, and the file `in.lammps` is the lammps input script. One may check in.lammps and finds that it is a rather standard LAMMPS input file for a MD simulation, with only two exception lines:\n",
    "```\n",
    "pair_style  deepmd graph.pb\n",
    "pair_coeff  * *\n",
    "```\n",
    "where the pair style deepmd is invoked and the model file `graph.pb` is provided, which means the atomic interaction will be computed by the DP model that is stored in the file `graph.pb`. \n",
    "\n",
    "In an environment with a compatibable version of LAMMPS, the deep potential molecular dynamics can be performed via \n",
    "\n",
    "```bash\n",
    "lmp -i input.lammps\n",
    "```"
   ]
  },
  {
   "cell_type": "code",
   "execution_count": 21,
   "id": "f4501e9c-541c-431d-8847-d0d9eecfb0e0",
   "metadata": {
    "scrolled": true
   },
   "outputs": [
    {
     "name": "stdout",
     "output_type": "stream",
     "text": [
      "/bin/bash: lmp: 未找到命令\n"
     ]
    }
   ],
   "source": [
    "! cd ./DeePMD-kit_Tutorial/02.lmp && lmp -i in.lammps"
   ]
  },
  {
   "cell_type": "markdown",
   "id": "3c1f883a-a768-4de1-8681-effd90643fee",
   "metadata": {},
   "source": [
    "## References <a id ='references'></a>\n",
    "\n",
    "1. https://docs.deepmodeling.com/projects/deepmd/en/master/index.html\n",
    "2. https://github.com/deepmodeling/deepmd-kit "
   ]
  },
  {
   "cell_type": "markdown",
   "id": "98a7aff7-daaf-494f-beb9-aa99688ed0a2",
   "metadata": {},
   "source": [
    "<a href=\"https://bohrium.dp.tech/notebook/a1d17996148f44d09a6447dd4dd19aa6\" target=\"_blank\"><img src=\"https://cdn.dp.tech/bohrium/web/static/images/open-in-bohrium.svg\" alt=\"Open In Bohrium\"/></a>"
   ]
  }
 ],
 "metadata": {
  "kernelspec": {
   "display_name": "deepmd",
   "language": "python",
   "name": "deepmd"
  },
  "language_info": {
   "codemirror_mode": {
    "name": "ipython",
    "version": 3
   },
   "file_extension": ".py",
   "mimetype": "text/x-python",
   "name": "python",
   "nbconvert_exporter": "python",
   "pygments_lexer": "ipython3",
   "version": "3.10.13"
  }
 },
 "nbformat": 4,
 "nbformat_minor": 5
}
